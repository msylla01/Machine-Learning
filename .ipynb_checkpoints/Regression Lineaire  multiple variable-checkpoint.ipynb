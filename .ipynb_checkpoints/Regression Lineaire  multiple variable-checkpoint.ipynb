{
 "cells": [
  {
   "cell_type": "markdown",
   "id": "4d30d959",
   "metadata": {},
   "source": [
    "# regrestion Lineaire"
   ]
  },
  {
   "cell_type": "code",
   "execution_count": 45,
   "id": "ce207e76",
   "metadata": {},
   "outputs": [],
   "source": [
    "import numpy as np\n",
    "from sklearn.datasets import make_regression\n",
    "import matplotlib.pyplot as plt"
   ]
  },
  {
   "cell_type": "markdown",
   "id": "a44c172e",
   "metadata": {},
   "source": [
    "# 1. Dataset"
   ]
  },
  {
   "cell_type": "code",
   "execution_count": 46,
   "id": "b7a9a829",
   "metadata": {},
   "outputs": [],
   "source": [
    "x,y = make_regression(n_samples=100,n_features=1,noise=10)"
   ]
  },
  {
   "cell_type": "code",
   "execution_count": 47,
   "id": "3c2349a8",
   "metadata": {},
   "outputs": [
    {
     "data": {
      "text/plain": [
       "<matplotlib.collections.PathCollection at 0x7fa25caa1550>"
      ]
     },
     "execution_count": 47,
     "metadata": {},
     "output_type": "execute_result"
    },
    {
     "data": {
      "image/png": "[encoded data removed]",
      "text/plain": [
       "<Figure size 432x288 with 1 Axes>"
      ]
     },
     "metadata": {
      "needs_background": "light"
     },
     "output_type": "display_data"
    }
   ],
   "source": [
    "plt.scatter(x,y)"
   ]
  },
  {
   "cell_type": "code",
   "execution_count": 48,
   "id": "a8c5b1c0",
   "metadata": {},
   "outputs": [
    {
     "name": "stdout",
     "output_type": "stream",
     "text": [
      "(100, 1)\n",
      "(100, 1)\n"
     ]
    }
   ],
   "source": [
    "print(x.shape)\n",
    "y = y.reshape(y.shape[0],1)\n",
    "print(y.shape)"
   ]
  },
  {
   "cell_type": "code",
   "execution_count": 49,
   "id": "f322422d",
   "metadata": {},
   "outputs": [
    {
     "data": {
      "text/plain": [
       "array([[ 0.80031859,  1.        ],\n",
       "       [-1.30050745,  1.        ],\n",
       "       [ 0.72280093,  1.        ],\n",
       "       [-0.41505   ,  1.        ],\n",
       "       [ 0.93862652,  1.        ]])"
      ]
     },
     "execution_count": 49,
     "metadata": {},
     "output_type": "execute_result"
    }
   ],
   "source": [
    "#matrice x\n",
    "X = np.hstack((x,np.ones(x.shape)))\n",
    "X[:5]"
   ]
  },
  {
   "cell_type": "code",
   "execution_count": 50,
   "id": "afc7c972",
   "metadata": {},
   "outputs": [
    {
     "data": {
      "text/plain": [
       "array([[ 0.89263927],\n",
       "       [-1.49298061]])"
      ]
     },
     "execution_count": 50,
     "metadata": {},
     "output_type": "execute_result"
    }
   ],
   "source": [
    "theta  = np.random.randn(2,1)\n",
    "theta"
   ]
  },
  {
   "cell_type": "markdown",
   "id": "9019f9a1",
   "metadata": {},
   "source": [
    "# 2. Modele "
   ]
  },
  {
   "cell_type": "code",
   "execution_count": 51,
   "id": "cc9fdd73",
   "metadata": {},
   "outputs": [],
   "source": [
    "def model(X, theta):\n",
    "    return X.dot(theta)"
   ]
  },
  {
   "cell_type": "code",
   "execution_count": 52,
   "id": "b9593bdf",
   "metadata": {},
   "outputs": [
    {
     "data": {
      "text/plain": [
       "[<matplotlib.lines.Line2D at 0x7fa25ca5d940>]"
      ]
     },
     "execution_count": 52,
     "metadata": {},
     "output_type": "execute_result"
    },
    {
     "data": {
      "image/png": "[encoded data removed]",
      "text/plain": [
       "<Figure size 432x288 with 1 Axes>"
      ]
     },
     "metadata": {
      "needs_background": "light"
     },
     "output_type": "display_data"
    }
   ],
   "source": [
    "plt.scatter(x,y)\n",
    "plt.plot(x, model(X, theta),c='r')"
   ]
  },
  {
   "cell_type": "markdown",
   "id": "aba3ccae",
   "metadata": {},
   "source": [
    "# 3. Fonction cout"
   ]
  },
  {
   "cell_type": "code",
   "execution_count": 53,
   "id": "d7f561d9",
   "metadata": {},
   "outputs": [],
   "source": [
    "def cout_fonction(X, y, theta):\n",
    "    m = len(y)\n",
    "    return 1/(2*m)*np.sum(model(X, theta)-y)**2"
   ]
  },
  {
   "cell_type": "code",
   "execution_count": 54,
   "id": "5d542b3f",
   "metadata": {},
   "outputs": [
    {
     "data": {
      "text/plain": [
       "221.38369840485132"
      ]
     },
     "execution_count": 54,
     "metadata": {},
     "output_type": "execute_result"
    }
   ],
   "source": [
    "cout_fonction(X, y, theta)"
   ]
  },
  {
   "cell_type": "markdown",
   "id": "735ea780",
   "metadata": {},
   "source": [
    "# Gradients Descente de Gratient"
   ]
  },
  {
   "cell_type": "code",
   "execution_count": 65,
   "id": "508ddaa2",
   "metadata": {},
   "outputs": [],
   "source": [
    "def grad(X, y, theta):\n",
    "    m = len(y)\n",
    "    return 1/m * X.T.dot(model(X,theta) -y)"
   ]
  },
  {
   "cell_type": "code",
   "execution_count": 74,
   "id": "67eb2c8b",
   "metadata": {},
   "outputs": [],
   "source": [
    "def gradient_descent(X, y, theta, learning_rate, n_iterations):\n",
    "    cos_history = np.zeros(n_iterations)\n",
    "    for i in range(0, n_iterations):\n",
    "        theta = theta - learning_rate * grad(X, y, theta)\n",
    "        cos_history[i] = cout_fonction(X, y, theta)\n",
    "    return theta, cos_history"
   ]
  },
  {
   "cell_type": "markdown",
   "id": "9bd55f51",
   "metadata": {},
   "source": [
    "# 5.  Entrainement du model\n",
    "    Machine Learning"
   ]
  },
  {
   "cell_type": "code",
   "execution_count": 75,
   "id": "e58224f7",
   "metadata": {},
   "outputs": [],
   "source": [
    "theta_final,cost_history = gradient_descent(X, y,theta, learning_rate=0.01, n_iterations=1000)"
   ]
  },
  {
   "cell_type": "code",
   "execution_count": 76,
   "id": "cd2023dc",
   "metadata": {},
   "outputs": [
    {
     "data": {
      "text/plain": [
       "array([[23.14677523],\n",
       "       [-0.02452691]])"
      ]
     },
     "execution_count": 76,
     "metadata": {},
     "output_type": "execute_result"
    }
   ],
   "source": [
    "theta_final"
   ]
  },
  {
   "cell_type": "code",
   "execution_count": 77,
   "id": "a0d93fa2",
   "metadata": {},
   "outputs": [
    {
     "data": {
      "text/plain": [
       "[<matplotlib.lines.Line2D at 0x7fa25cc812e0>]"
      ]
     },
     "execution_count": 77,
     "metadata": {},
     "output_type": "execute_result"
    },
    {
     "data": {
      "image/png": "[encoded data removed]",
      "text/plain": [
       "<Figure size 432x288 with 1 Axes>"
      ]
     },
     "metadata": {
      "needs_background": "light"
     },
     "output_type": "display_data"
    }
   ],
   "source": [
    "predictions = model(X, theta_final)\n",
    "plt.scatter(x[:,0], y)\n",
    "plt.plot(x, predictions, c='r')"
   ]
  },
  {
   "cell_type": "markdown",
   "id": "27fe9e61",
   "metadata": {},
   "source": [
    "# Coubre d'apprentissage"
   ]
  },
  {
   "cell_type": "code",
   "execution_count": 78,
   "id": "c7968796",
   "metadata": {
    "scrolled": true
   },
   "outputs": [
    {
     "data": {
      "text/plain": [
       "[<matplotlib.lines.Line2D at 0x7fa25db6b130>]"
      ]
     },
     "execution_count": 78,
     "metadata": {},
     "output_type": "execute_result"
    },
    {
     "data": {
      "image/png": "[encoded data removed]",
      "text/plain": [
       "<Figure size 432x288 with 1 Axes>"
      ]
     },
     "metadata": {
      "needs_background": "light"
     },
     "output_type": "display_data"
    }
   ],
   "source": [
    "plt.plot(range(1000), cost_history)"
   ]
  },
  {
   "cell_type": "markdown",
   "id": "10386d8e",
   "metadata": {},
   "source": [
    "## 7. Coefficient de Determination\n",
    "    Performance du modele\n",
    "    "
   ]
  },
  {
   "cell_type": "code",
   "execution_count": 79,
   "id": "6f34d162",
   "metadata": {},
   "outputs": [],
   "source": [
    "def coef_determination(y, pred):\n",
    "    u = ((y - pred)**2).sum()\n",
    "    v = ((y - y.mean())**2).sum()\n",
    "    return 1 - u/v"
   ]
  },
  {
   "cell_type": "code",
   "execution_count": 81,
   "id": "7b441ebf",
   "metadata": {},
   "outputs": [
    {
     "data": {
      "text/plain": [
       "0.8432538315648062"
      ]
     },
     "execution_count": 81,
     "metadata": {},
     "output_type": "execute_result"
    }
   ],
   "source": [
    "coef_determination(y, predictions)"
   ]
  },
  {
   "cell_type": "code",
   "execution_count": null,
   "id": "86c458f9",
   "metadata": {},
   "outputs": [],
   "source": []
  }
 ],
 "metadata": {
  "kernelspec": {
   "display_name": "Python 3",
   "language": "python",
   "name": "python3"
  },
  "language_info": {
   "codemirror_mode": {
    "name": "ipython",
    "version": 3
   },
   "file_extension": ".py",
   "mimetype": "text/x-python",
   "name": "python",
   "nbconvert_exporter": "python",
   "pygments_lexer": "ipython3",
   "version": "3.8.8"
  }
 },
 "nbformat": 4,
 "nbformat_minor": 5
}
